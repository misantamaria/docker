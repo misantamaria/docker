{
 "cells": [
  {
   "cell_type": "code",
   "execution_count": 5,
   "id": "84ed175a-f93a-45ed-bbc4-014d94d12dbc",
   "metadata": {
    "tags": []
   },
   "outputs": [
    {
     "name": "stdout",
     "output_type": "stream",
     "text": [
      "Cuda is available:  True\n",
      "Número de GPUs: 1\n"
     ]
    }
   ],
   "source": [
    "import torch\n",
    "print(\"Torch version\", torch.__version__)\n",
    "if (torch.cuda.is_available()):\n",
    "    print(\"Cuda version:\", torch.version.cuda )\n",
    "    print(\"Número de GPUs:\", torch.cuda.device_count())\n",
    "    print(torch.cuda.get_arch_list())"
   ]
  }
 ],
 "metadata": {
  "kernelspec": {
   "display_name": "Python 3 (ipykernel)",
   "language": "python",
   "name": "python3"
  },
  "language_info": {
   "codemirror_mode": {
    "name": "ipython",
    "version": 3
   },
   "file_extension": ".py",
   "mimetype": "text/x-python",
   "name": "python",
   "nbconvert_exporter": "python",
   "pygments_lexer": "ipython3",
   "version": "3.10.12"
  }
 },
 "nbformat": 4,
 "nbformat_minor": 5
}
